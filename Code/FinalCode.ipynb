{
 "cells": [
  {
   "cell_type": "markdown",
   "id": "square-pleasure",
   "metadata": {},
   "source": [
    "# Importing DataSet"
   ]
  },
  {
   "cell_type": "code",
   "execution_count": 1,
   "id": "expressed-scottish",
   "metadata": {},
   "outputs": [],
   "source": [
    "import pandas as pd\n",
    "df1 = pd.read_excel (\"AP Primary Sector Farmerwise Soil Health Data of 13 districts.xls\")"
   ]
  },
  {
   "cell_type": "markdown",
   "id": "comprehensive-explosion",
   "metadata": {},
   "source": [
    "## The Dataset"
   ]
  },
  {
   "cell_type": "code",
   "execution_count": 2,
   "id": "broken-hazard",
   "metadata": {},
   "outputs": [
    {
     "data": {
      "text/html": [
       "<div>\n",
       "<style scoped>\n",
       "    .dataframe tbody tr th:only-of-type {\n",
       "        vertical-align: middle;\n",
       "    }\n",
       "\n",
       "    .dataframe tbody tr th {\n",
       "        vertical-align: top;\n",
       "    }\n",
       "\n",
       "    .dataframe thead th {\n",
       "        text-align: right;\n",
       "    }\n",
       "</style>\n",
       "<table border=\"1\" class=\"dataframe\">\n",
       "  <thead>\n",
       "    <tr style=\"text-align: right;\">\n",
       "      <th></th>\n",
       "      <th>Sl no</th>\n",
       "      <th>Date</th>\n",
       "      <th>Farmer No</th>\n",
       "      <th>Macro/ Micro nutrient</th>\n",
       "      <th>Farmer Name</th>\n",
       "      <th>District</th>\n",
       "      <th>Mandal</th>\n",
       "      <th>Village</th>\n",
       "      <th>Latitude</th>\n",
       "      <th>Longitude</th>\n",
       "      <th>...</th>\n",
       "      <th>Exch-K</th>\n",
       "      <th>Avail-Ca</th>\n",
       "      <th>Avail-Mg</th>\n",
       "      <th>Avail-S</th>\n",
       "      <th>Avail-Zn</th>\n",
       "      <th>Avail-B</th>\n",
       "      <th>Avail-Fe</th>\n",
       "      <th>Avail-Cu</th>\n",
       "      <th>Avail-Mn</th>\n",
       "      <th>Time</th>\n",
       "    </tr>\n",
       "  </thead>\n",
       "  <tbody>\n",
       "    <tr>\n",
       "      <th>0</th>\n",
       "      <td>1</td>\n",
       "      <td>2015-01-01</td>\n",
       "      <td>1910</td>\n",
       "      <td>RK2276</td>\n",
       "      <td>P.Krishna Naik</td>\n",
       "      <td>Anantapur</td>\n",
       "      <td>Penukonda</td>\n",
       "      <td>Gonipeta</td>\n",
       "      <td>14.0819</td>\n",
       "      <td>77.6922</td>\n",
       "      <td>...</td>\n",
       "      <td>41</td>\n",
       "      <td>587</td>\n",
       "      <td>101</td>\n",
       "      <td>5.16</td>\n",
       "      <td>0.30</td>\n",
       "      <td>0.17</td>\n",
       "      <td>8.89</td>\n",
       "      <td>0.51</td>\n",
       "      <td>15.24</td>\n",
       "      <td>2015-01-01</td>\n",
       "    </tr>\n",
       "    <tr>\n",
       "      <th>1</th>\n",
       "      <td>2</td>\n",
       "      <td>2015-01-01</td>\n",
       "      <td>1911</td>\n",
       "      <td>RK2277</td>\n",
       "      <td>Kallu Thippe Naik</td>\n",
       "      <td>Anantapur</td>\n",
       "      <td>Penukonda</td>\n",
       "      <td>Gonipeta</td>\n",
       "      <td>14.0928</td>\n",
       "      <td>77.6858</td>\n",
       "      <td>...</td>\n",
       "      <td>102</td>\n",
       "      <td>811</td>\n",
       "      <td>261</td>\n",
       "      <td>9.91</td>\n",
       "      <td>0.36</td>\n",
       "      <td>0.57</td>\n",
       "      <td>3.24</td>\n",
       "      <td>0.44</td>\n",
       "      <td>6.90</td>\n",
       "      <td>2015-01-01</td>\n",
       "    </tr>\n",
       "    <tr>\n",
       "      <th>2</th>\n",
       "      <td>3</td>\n",
       "      <td>2015-01-01</td>\n",
       "      <td>1912</td>\n",
       "      <td>RK2278</td>\n",
       "      <td>P.Duble Bai</td>\n",
       "      <td>Anantapur</td>\n",
       "      <td>Penukonda</td>\n",
       "      <td>Gonipeta</td>\n",
       "      <td>14.0933</td>\n",
       "      <td>77.6939</td>\n",
       "      <td>...</td>\n",
       "      <td>46</td>\n",
       "      <td>582</td>\n",
       "      <td>48</td>\n",
       "      <td>3.77</td>\n",
       "      <td>0.37</td>\n",
       "      <td>0.19</td>\n",
       "      <td>5.54</td>\n",
       "      <td>0.42</td>\n",
       "      <td>8.34</td>\n",
       "      <td>2015-01-01</td>\n",
       "    </tr>\n",
       "    <tr>\n",
       "      <th>3</th>\n",
       "      <td>4</td>\n",
       "      <td>2015-01-01</td>\n",
       "      <td>1913</td>\n",
       "      <td>RK2279</td>\n",
       "      <td>H.Marekka (Kamma)</td>\n",
       "      <td>Anantapur</td>\n",
       "      <td>Penukonda</td>\n",
       "      <td>Gonipeta</td>\n",
       "      <td>14.0953</td>\n",
       "      <td>77.6961</td>\n",
       "      <td>...</td>\n",
       "      <td>35</td>\n",
       "      <td>3048</td>\n",
       "      <td>52</td>\n",
       "      <td>4.14</td>\n",
       "      <td>0.23</td>\n",
       "      <td>0.21</td>\n",
       "      <td>1.79</td>\n",
       "      <td>0.67</td>\n",
       "      <td>4.17</td>\n",
       "      <td>2015-01-01</td>\n",
       "    </tr>\n",
       "    <tr>\n",
       "      <th>4</th>\n",
       "      <td>5</td>\n",
       "      <td>2015-01-01</td>\n",
       "      <td>1914</td>\n",
       "      <td>RK2280</td>\n",
       "      <td>M.Alevelamma</td>\n",
       "      <td>Anantapur</td>\n",
       "      <td>Penukonda</td>\n",
       "      <td>Gonipeta</td>\n",
       "      <td>14.0856</td>\n",
       "      <td>77.6892</td>\n",
       "      <td>...</td>\n",
       "      <td>76</td>\n",
       "      <td>511</td>\n",
       "      <td>84</td>\n",
       "      <td>1.45</td>\n",
       "      <td>0.36</td>\n",
       "      <td>0.22</td>\n",
       "      <td>22.26</td>\n",
       "      <td>0.45</td>\n",
       "      <td>9.20</td>\n",
       "      <td>2015-01-01</td>\n",
       "    </tr>\n",
       "  </tbody>\n",
       "</table>\n",
       "<p>5 rows × 29 columns</p>\n",
       "</div>"
      ],
      "text/plain": [
       "   Sl no       Date Farmer No Macro/ Micro nutrient        Farmer Name  \\\n",
       "0      1 2015-01-01      1910                RK2276     P.Krishna Naik   \n",
       "1      2 2015-01-01      1911                RK2277  Kallu Thippe Naik   \n",
       "2      3 2015-01-01      1912                RK2278        P.Duble Bai   \n",
       "3      4 2015-01-01      1913                RK2279  H.Marekka (Kamma)   \n",
       "4      5 2015-01-01      1914                RK2280       M.Alevelamma   \n",
       "\n",
       "    District     Mandal   Village  Latitude  Longitude  ... Exch-K Avail-Ca  \\\n",
       "0  Anantapur  Penukonda  Gonipeta   14.0819    77.6922  ...     41      587   \n",
       "1  Anantapur  Penukonda  Gonipeta   14.0928    77.6858  ...    102      811   \n",
       "2  Anantapur  Penukonda  Gonipeta   14.0933    77.6939  ...     46      582   \n",
       "3  Anantapur  Penukonda  Gonipeta   14.0953    77.6961  ...     35     3048   \n",
       "4  Anantapur  Penukonda  Gonipeta   14.0856    77.6892  ...     76      511   \n",
       "\n",
       "  Avail-Mg Avail-S Avail-Zn  Avail-B  Avail-Fe Avail-Cu  Avail-Mn       Time  \n",
       "0      101    5.16     0.30     0.17      8.89     0.51     15.24 2015-01-01  \n",
       "1      261    9.91     0.36     0.57      3.24     0.44      6.90 2015-01-01  \n",
       "2       48    3.77     0.37     0.19      5.54     0.42      8.34 2015-01-01  \n",
       "3       52    4.14     0.23     0.21      1.79     0.67      4.17 2015-01-01  \n",
       "4       84    1.45     0.36     0.22     22.26     0.45      9.20 2015-01-01  \n",
       "\n",
       "[5 rows x 29 columns]"
      ]
     },
     "execution_count": 2,
     "metadata": {},
     "output_type": "execute_result"
    }
   ],
   "source": [
    "df1.head()"
   ]
  },
  {
   "cell_type": "markdown",
   "id": "incorrect-spanking",
   "metadata": {},
   "source": [
    "# Data Preprocessing "
   ]
  },
  {
   "cell_type": "markdown",
   "id": "royal-rouge",
   "metadata": {},
   "source": [
    "## Deleting the unnecessary columns"
   ]
  },
  {
   "cell_type": "code",
   "execution_count": 3,
   "id": "fifty-unknown",
   "metadata": {},
   "outputs": [
    {
     "data": {
      "text/html": [
       "<div>\n",
       "<style scoped>\n",
       "    .dataframe tbody tr th:only-of-type {\n",
       "        vertical-align: middle;\n",
       "    }\n",
       "\n",
       "    .dataframe tbody tr th {\n",
       "        vertical-align: top;\n",
       "    }\n",
       "\n",
       "    .dataframe thead th {\n",
       "        text-align: right;\n",
       "    }\n",
       "</style>\n",
       "<table border=\"1\" class=\"dataframe\">\n",
       "  <thead>\n",
       "    <tr style=\"text-align: right;\">\n",
       "      <th></th>\n",
       "      <th>Crop before</th>\n",
       "      <th>pH</th>\n",
       "      <th>EC</th>\n",
       "      <th>OC</th>\n",
       "      <th>Avail-P</th>\n",
       "      <th>Exch-K</th>\n",
       "      <th>Avail-Ca</th>\n",
       "      <th>Avail-Mg</th>\n",
       "      <th>Avail-S</th>\n",
       "      <th>Avail-Zn</th>\n",
       "      <th>Avail-B</th>\n",
       "      <th>Avail-Fe</th>\n",
       "      <th>Avail-Cu</th>\n",
       "      <th>Avail-Mn</th>\n",
       "    </tr>\n",
       "  </thead>\n",
       "  <tbody>\n",
       "    <tr>\n",
       "      <th>0</th>\n",
       "      <td>G.Nut</td>\n",
       "      <td>6.19</td>\n",
       "      <td>0.07</td>\n",
       "      <td>0.18</td>\n",
       "      <td>7.13</td>\n",
       "      <td>41</td>\n",
       "      <td>587</td>\n",
       "      <td>101</td>\n",
       "      <td>5.16</td>\n",
       "      <td>0.30</td>\n",
       "      <td>0.17</td>\n",
       "      <td>8.89</td>\n",
       "      <td>0.51</td>\n",
       "      <td>15.24</td>\n",
       "    </tr>\n",
       "    <tr>\n",
       "      <th>1</th>\n",
       "      <td>G.Nut</td>\n",
       "      <td>8.40</td>\n",
       "      <td>0.33</td>\n",
       "      <td>0.31</td>\n",
       "      <td>10.34</td>\n",
       "      <td>102</td>\n",
       "      <td>811</td>\n",
       "      <td>261</td>\n",
       "      <td>9.91</td>\n",
       "      <td>0.36</td>\n",
       "      <td>0.57</td>\n",
       "      <td>3.24</td>\n",
       "      <td>0.44</td>\n",
       "      <td>6.90</td>\n",
       "    </tr>\n",
       "    <tr>\n",
       "      <th>2</th>\n",
       "      <td>G.Nut</td>\n",
       "      <td>7.10</td>\n",
       "      <td>0.11</td>\n",
       "      <td>0.17</td>\n",
       "      <td>8.46</td>\n",
       "      <td>46</td>\n",
       "      <td>582</td>\n",
       "      <td>48</td>\n",
       "      <td>3.77</td>\n",
       "      <td>0.37</td>\n",
       "      <td>0.19</td>\n",
       "      <td>5.54</td>\n",
       "      <td>0.42</td>\n",
       "      <td>8.34</td>\n",
       "    </tr>\n",
       "    <tr>\n",
       "      <th>3</th>\n",
       "      <td>Horsegram</td>\n",
       "      <td>8.30</td>\n",
       "      <td>0.21</td>\n",
       "      <td>0.2</td>\n",
       "      <td>2.31</td>\n",
       "      <td>35</td>\n",
       "      <td>3048</td>\n",
       "      <td>52</td>\n",
       "      <td>4.14</td>\n",
       "      <td>0.23</td>\n",
       "      <td>0.21</td>\n",
       "      <td>1.79</td>\n",
       "      <td>0.67</td>\n",
       "      <td>4.17</td>\n",
       "    </tr>\n",
       "    <tr>\n",
       "      <th>4</th>\n",
       "      <td>Horsegram</td>\n",
       "      <td>6.40</td>\n",
       "      <td>0.06</td>\n",
       "      <td>0.22</td>\n",
       "      <td>6.08</td>\n",
       "      <td>76</td>\n",
       "      <td>511</td>\n",
       "      <td>84</td>\n",
       "      <td>1.45</td>\n",
       "      <td>0.36</td>\n",
       "      <td>0.22</td>\n",
       "      <td>22.26</td>\n",
       "      <td>0.45</td>\n",
       "      <td>9.20</td>\n",
       "    </tr>\n",
       "    <tr>\n",
       "      <th>...</th>\n",
       "      <td>...</td>\n",
       "      <td>...</td>\n",
       "      <td>...</td>\n",
       "      <td>...</td>\n",
       "      <td>...</td>\n",
       "      <td>...</td>\n",
       "      <td>...</td>\n",
       "      <td>...</td>\n",
       "      <td>...</td>\n",
       "      <td>...</td>\n",
       "      <td>...</td>\n",
       "      <td>...</td>\n",
       "      <td>...</td>\n",
       "      <td>...</td>\n",
       "    </tr>\n",
       "    <tr>\n",
       "      <th>4810</th>\n",
       "      <td>Oil Palm</td>\n",
       "      <td>5.75</td>\n",
       "      <td>0.16</td>\n",
       "      <td>0.42</td>\n",
       "      <td>21.72</td>\n",
       "      <td>114</td>\n",
       "      <td>364</td>\n",
       "      <td>31</td>\n",
       "      <td>14.7</td>\n",
       "      <td>0.98</td>\n",
       "      <td>0.71</td>\n",
       "      <td>99.43</td>\n",
       "      <td>1.29</td>\n",
       "      <td>14.57</td>\n",
       "    </tr>\n",
       "    <tr>\n",
       "      <th>4811</th>\n",
       "      <td>Maize</td>\n",
       "      <td>6.40</td>\n",
       "      <td>0.08</td>\n",
       "      <td>0.24</td>\n",
       "      <td>3.46</td>\n",
       "      <td>71</td>\n",
       "      <td>201</td>\n",
       "      <td>19</td>\n",
       "      <td>6.93</td>\n",
       "      <td>0.66</td>\n",
       "      <td>0.28</td>\n",
       "      <td>10.00</td>\n",
       "      <td>0.62</td>\n",
       "      <td>36.19</td>\n",
       "    </tr>\n",
       "    <tr>\n",
       "      <th>4812</th>\n",
       "      <td>Cashew</td>\n",
       "      <td>7.12</td>\n",
       "      <td>0.10</td>\n",
       "      <td>0.41</td>\n",
       "      <td>28.84</td>\n",
       "      <td>80</td>\n",
       "      <td>1313</td>\n",
       "      <td>187</td>\n",
       "      <td>8.37</td>\n",
       "      <td>1.20</td>\n",
       "      <td>1.22</td>\n",
       "      <td>100.91</td>\n",
       "      <td>3.33</td>\n",
       "      <td>15.95</td>\n",
       "    </tr>\n",
       "    <tr>\n",
       "      <th>4813</th>\n",
       "      <td>Maize</td>\n",
       "      <td>6.85</td>\n",
       "      <td>0.05</td>\n",
       "      <td>0.11</td>\n",
       "      <td>3.11</td>\n",
       "      <td>66</td>\n",
       "      <td>667</td>\n",
       "      <td>115</td>\n",
       "      <td>5.45</td>\n",
       "      <td>0.28</td>\n",
       "      <td>0.32</td>\n",
       "      <td>20.80</td>\n",
       "      <td>1.08</td>\n",
       "      <td>14.59</td>\n",
       "    </tr>\n",
       "    <tr>\n",
       "      <th>4814</th>\n",
       "      <td>Paddy</td>\n",
       "      <td>8.10</td>\n",
       "      <td>0.20</td>\n",
       "      <td>0.61</td>\n",
       "      <td>58.49</td>\n",
       "      <td>131</td>\n",
       "      <td>1353</td>\n",
       "      <td>322</td>\n",
       "      <td>21.98</td>\n",
       "      <td>0.89</td>\n",
       "      <td>1.18</td>\n",
       "      <td>21.59</td>\n",
       "      <td>1.76</td>\n",
       "      <td>8.75</td>\n",
       "    </tr>\n",
       "  </tbody>\n",
       "</table>\n",
       "<p>4815 rows × 14 columns</p>\n",
       "</div>"
      ],
      "text/plain": [
       "     Crop before    pH    EC    OC  Avail-P  Exch-K  Avail-Ca  Avail-Mg  \\\n",
       "0          G.Nut  6.19  0.07  0.18     7.13      41       587       101   \n",
       "1          G.Nut  8.40  0.33  0.31    10.34     102       811       261   \n",
       "2          G.Nut  7.10  0.11  0.17     8.46      46       582        48   \n",
       "3      Horsegram  8.30  0.21   0.2     2.31      35      3048        52   \n",
       "4      Horsegram  6.40  0.06  0.22     6.08      76       511        84   \n",
       "...          ...   ...   ...   ...      ...     ...       ...       ...   \n",
       "4810    Oil Palm  5.75  0.16  0.42    21.72     114       364        31   \n",
       "4811       Maize  6.40  0.08  0.24     3.46      71       201        19   \n",
       "4812      Cashew  7.12  0.10  0.41    28.84      80      1313       187   \n",
       "4813       Maize  6.85  0.05  0.11     3.11      66       667       115   \n",
       "4814       Paddy  8.10  0.20  0.61    58.49     131      1353       322   \n",
       "\n",
       "     Avail-S  Avail-Zn Avail-B  Avail-Fe  Avail-Cu  Avail-Mn  \n",
       "0       5.16      0.30    0.17      8.89      0.51     15.24  \n",
       "1       9.91      0.36    0.57      3.24      0.44      6.90  \n",
       "2       3.77      0.37    0.19      5.54      0.42      8.34  \n",
       "3       4.14      0.23    0.21      1.79      0.67      4.17  \n",
       "4       1.45      0.36    0.22     22.26      0.45      9.20  \n",
       "...      ...       ...     ...       ...       ...       ...  \n",
       "4810    14.7      0.98    0.71     99.43      1.29     14.57  \n",
       "4811    6.93      0.66    0.28     10.00      0.62     36.19  \n",
       "4812    8.37      1.20    1.22    100.91      3.33     15.95  \n",
       "4813    5.45      0.28    0.32     20.80      1.08     14.59  \n",
       "4814   21.98      0.89    1.18     21.59      1.76      8.75  \n",
       "\n",
       "[4815 rows x 14 columns]"
      ]
     },
     "execution_count": 3,
     "metadata": {},
     "output_type": "execute_result"
    }
   ],
   "source": [
    "df1.drop(df1.iloc[:,0:13], inplace = True, axis = 1)\n",
    "df1 = df1.drop(columns=['Extent\\n(AC)','Time'])\n",
    "df1"
   ]
  },
  {
   "cell_type": "markdown",
   "id": "spiritual-glenn",
   "metadata": {},
   "source": [
    "## Sorting the dataset by the Crop Type"
   ]
  },
  {
   "cell_type": "code",
   "execution_count": 4,
   "id": "entitled-amount",
   "metadata": {},
   "outputs": [],
   "source": [
    "df1 = df1.sort_values(by='Crop before')"
   ]
  },
  {
   "cell_type": "markdown",
   "id": "choice-french",
   "metadata": {},
   "source": [
    "## Converting the target values into classes "
   ]
  },
  {
   "cell_type": "code",
   "execution_count": 5,
   "id": "conceptual-enterprise",
   "metadata": {},
   "outputs": [
    {
     "data": {
      "text/html": [
       "<div>\n",
       "<style scoped>\n",
       "    .dataframe tbody tr th:only-of-type {\n",
       "        vertical-align: middle;\n",
       "    }\n",
       "\n",
       "    .dataframe tbody tr th {\n",
       "        vertical-align: top;\n",
       "    }\n",
       "\n",
       "    .dataframe thead th {\n",
       "        text-align: right;\n",
       "    }\n",
       "</style>\n",
       "<table border=\"1\" class=\"dataframe\">\n",
       "  <thead>\n",
       "    <tr style=\"text-align: right;\">\n",
       "      <th></th>\n",
       "      <th>Crop before</th>\n",
       "      <th>pH</th>\n",
       "      <th>EC</th>\n",
       "      <th>OC</th>\n",
       "      <th>Avail-P</th>\n",
       "      <th>Exch-K</th>\n",
       "      <th>Avail-Ca</th>\n",
       "      <th>Avail-Mg</th>\n",
       "      <th>Avail-S</th>\n",
       "      <th>Avail-Zn</th>\n",
       "      <th>Avail-B</th>\n",
       "      <th>Avail-Fe</th>\n",
       "      <th>Avail-Cu</th>\n",
       "      <th>Avail-Mn</th>\n",
       "    </tr>\n",
       "  </thead>\n",
       "  <tbody>\n",
       "    <tr>\n",
       "      <th>3639</th>\n",
       "      <td></td>\n",
       "      <td>8.25</td>\n",
       "      <td>0.14</td>\n",
       "      <td>0.24</td>\n",
       "      <td>2.72</td>\n",
       "      <td>54</td>\n",
       "      <td>807</td>\n",
       "      <td>513</td>\n",
       "      <td>5.04</td>\n",
       "      <td>0.24</td>\n",
       "      <td>0.78</td>\n",
       "      <td>4.56</td>\n",
       "      <td>0.94</td>\n",
       "      <td>11.28</td>\n",
       "    </tr>\n",
       "    <tr>\n",
       "      <th>4322</th>\n",
       "      <td>Maize</td>\n",
       "      <td>8.67</td>\n",
       "      <td>0.21</td>\n",
       "      <td>0.41</td>\n",
       "      <td>7.93</td>\n",
       "      <td>66</td>\n",
       "      <td>2130</td>\n",
       "      <td>428</td>\n",
       "      <td>6.07</td>\n",
       "      <td>0.68</td>\n",
       "      <td>1.78</td>\n",
       "      <td>26.58</td>\n",
       "      <td>2.20</td>\n",
       "      <td>12.60</td>\n",
       "    </tr>\n",
       "    <tr>\n",
       "      <th>631</th>\n",
       "      <td>-</td>\n",
       "      <td>4.99</td>\n",
       "      <td>0.04</td>\n",
       "      <td>0.34</td>\n",
       "      <td>13.20</td>\n",
       "      <td>62</td>\n",
       "      <td>509</td>\n",
       "      <td>128</td>\n",
       "      <td>3.48</td>\n",
       "      <td>1.05</td>\n",
       "      <td>0.31</td>\n",
       "      <td>65.53</td>\n",
       "      <td>1.67</td>\n",
       "      <td>14.64</td>\n",
       "    </tr>\n",
       "    <tr>\n",
       "      <th>608</th>\n",
       "      <td>Anaar</td>\n",
       "      <td>7.90</td>\n",
       "      <td>0.16</td>\n",
       "      <td>0.12</td>\n",
       "      <td>4.00</td>\n",
       "      <td>40</td>\n",
       "      <td>1823</td>\n",
       "      <td>323</td>\n",
       "      <td>17.36</td>\n",
       "      <td>0.34</td>\n",
       "      <td>0.24</td>\n",
       "      <td>3.16</td>\n",
       "      <td>0.55</td>\n",
       "      <td>6.53</td>\n",
       "    </tr>\n",
       "    <tr>\n",
       "      <th>1398</th>\n",
       "      <td>Bajra</td>\n",
       "      <td>8.41</td>\n",
       "      <td>0.48</td>\n",
       "      <td>0.74</td>\n",
       "      <td>9.20</td>\n",
       "      <td>136</td>\n",
       "      <td>2851</td>\n",
       "      <td>763</td>\n",
       "      <td>15.4</td>\n",
       "      <td>1.53</td>\n",
       "      <td>1.59</td>\n",
       "      <td>8.02</td>\n",
       "      <td>1.74</td>\n",
       "      <td>18.10</td>\n",
       "    </tr>\n",
       "    <tr>\n",
       "      <th>...</th>\n",
       "      <td>...</td>\n",
       "      <td>...</td>\n",
       "      <td>...</td>\n",
       "      <td>...</td>\n",
       "      <td>...</td>\n",
       "      <td>...</td>\n",
       "      <td>...</td>\n",
       "      <td>...</td>\n",
       "      <td>...</td>\n",
       "      <td>...</td>\n",
       "      <td>...</td>\n",
       "      <td>...</td>\n",
       "      <td>...</td>\n",
       "      <td>...</td>\n",
       "    </tr>\n",
       "    <tr>\n",
       "      <th>3801</th>\n",
       "      <td>suger cane</td>\n",
       "      <td>6.48</td>\n",
       "      <td>0.08</td>\n",
       "      <td>0.32</td>\n",
       "      <td>3.40</td>\n",
       "      <td>74</td>\n",
       "      <td>551</td>\n",
       "      <td>189</td>\n",
       "      <td>4.98</td>\n",
       "      <td>0.36</td>\n",
       "      <td>0.63</td>\n",
       "      <td>22.30</td>\n",
       "      <td>1.46</td>\n",
       "      <td>21.82</td>\n",
       "    </tr>\n",
       "    <tr>\n",
       "      <th>3800</th>\n",
       "      <td>suger cane</td>\n",
       "      <td>5.60</td>\n",
       "      <td>0.03</td>\n",
       "      <td>0.2</td>\n",
       "      <td>1.70</td>\n",
       "      <td>127</td>\n",
       "      <td>250</td>\n",
       "      <td>94</td>\n",
       "      <td>1.48</td>\n",
       "      <td>0.32</td>\n",
       "      <td>0.34</td>\n",
       "      <td>19.56</td>\n",
       "      <td>0.74</td>\n",
       "      <td>38.38</td>\n",
       "    </tr>\n",
       "    <tr>\n",
       "      <th>3784</th>\n",
       "      <td>suger cane</td>\n",
       "      <td>7.80</td>\n",
       "      <td>0.09</td>\n",
       "      <td>0.5</td>\n",
       "      <td>4.32</td>\n",
       "      <td>80</td>\n",
       "      <td>1517</td>\n",
       "      <td>548</td>\n",
       "      <td>3.31</td>\n",
       "      <td>0.44</td>\n",
       "      <td>1.25</td>\n",
       "      <td>24.20</td>\n",
       "      <td>2.30</td>\n",
       "      <td>17.02</td>\n",
       "    </tr>\n",
       "    <tr>\n",
       "      <th>3803</th>\n",
       "      <td>suger cane</td>\n",
       "      <td>6.81</td>\n",
       "      <td>0.12</td>\n",
       "      <td>1.16</td>\n",
       "      <td>5.63</td>\n",
       "      <td>185</td>\n",
       "      <td>1120</td>\n",
       "      <td>322</td>\n",
       "      <td>5.51</td>\n",
       "      <td>0.86</td>\n",
       "      <td>1.08</td>\n",
       "      <td>44.62</td>\n",
       "      <td>2.16</td>\n",
       "      <td>33.74</td>\n",
       "    </tr>\n",
       "    <tr>\n",
       "      <th>890</th>\n",
       "      <td>yam</td>\n",
       "      <td>8.09</td>\n",
       "      <td>0.61</td>\n",
       "      <td>0.93</td>\n",
       "      <td>47.30</td>\n",
       "      <td>359</td>\n",
       "      <td>4863</td>\n",
       "      <td>1408</td>\n",
       "      <td>44.24</td>\n",
       "      <td>3.06</td>\n",
       "      <td>1.54</td>\n",
       "      <td>4.60</td>\n",
       "      <td>3.18</td>\n",
       "      <td>17.84</td>\n",
       "    </tr>\n",
       "  </tbody>\n",
       "</table>\n",
       "<p>4595 rows × 14 columns</p>\n",
       "</div>"
      ],
      "text/plain": [
       "      Crop before    pH    EC    OC  Avail-P  Exch-K  Avail-Ca  Avail-Mg  \\\n",
       "3639               8.25  0.14  0.24     2.72      54       807       513   \n",
       "4322        Maize  8.67  0.21  0.41     7.93      66      2130       428   \n",
       "631             -  4.99  0.04  0.34    13.20      62       509       128   \n",
       "608         Anaar  7.90  0.16  0.12     4.00      40      1823       323   \n",
       "1398        Bajra  8.41  0.48  0.74     9.20     136      2851       763   \n",
       "...           ...   ...   ...   ...      ...     ...       ...       ...   \n",
       "3801  suger cane   6.48  0.08  0.32     3.40      74       551       189   \n",
       "3800  suger cane   5.60  0.03   0.2     1.70     127       250        94   \n",
       "3784  suger cane   7.80  0.09   0.5     4.32      80      1517       548   \n",
       "3803  suger cane   6.81  0.12  1.16     5.63     185      1120       322   \n",
       "890           yam  8.09  0.61  0.93    47.30     359      4863      1408   \n",
       "\n",
       "     Avail-S  Avail-Zn Avail-B  Avail-Fe  Avail-Cu  Avail-Mn  \n",
       "3639    5.04      0.24    0.78      4.56      0.94     11.28  \n",
       "4322    6.07      0.68    1.78     26.58      2.20     12.60  \n",
       "631     3.48      1.05    0.31     65.53      1.67     14.64  \n",
       "608    17.36      0.34    0.24      3.16      0.55      6.53  \n",
       "1398    15.4      1.53    1.59      8.02      1.74     18.10  \n",
       "...      ...       ...     ...       ...       ...       ...  \n",
       "3801    4.98      0.36    0.63     22.30      1.46     21.82  \n",
       "3800    1.48      0.32    0.34     19.56      0.74     38.38  \n",
       "3784    3.31      0.44    1.25     24.20      2.30     17.02  \n",
       "3803    5.51      0.86    1.08     44.62      2.16     33.74  \n",
       "890    44.24      3.06    1.54      4.60      3.18     17.84  \n",
       "\n",
       "[4595 rows x 14 columns]"
      ]
     },
     "execution_count": 5,
     "metadata": {},
     "output_type": "execute_result"
    }
   ],
   "source": [
    "#Deleting the Nan Values\n",
    "df1 = df1.dropna(axis=0)\n",
    "df1"
   ]
  },
  {
   "cell_type": "code",
   "execution_count": 6,
   "id": "c805cefa",
   "metadata": {},
   "outputs": [],
   "source": [
    "indexNames = df1[ df1['Crop before'] == \"Paddy/G.gram\" ].index\n",
    "df1.drop(indexNames , inplace=True)"
   ]
  },
  {
   "cell_type": "code",
   "execution_count": 7,
   "id": "01a266a3",
   "metadata": {},
   "outputs": [],
   "source": [
    "indexNames = df1[ df1['Crop before'] == \"Paddy/ Sugarcane\" ].index\n",
    "df1.drop(indexNames , inplace=True)"
   ]
  },
  {
   "cell_type": "code",
   "execution_count": 8,
   "id": "accb9124",
   "metadata": {},
   "outputs": [],
   "source": [
    "indexNames = df1[ df1['Crop before'] == \"Paddy/Maize/G.N\" ].index\n",
    "df1.drop(indexNames , inplace=True)"
   ]
  },
  {
   "cell_type": "code",
   "execution_count": 9,
   "id": "10c2bffb",
   "metadata": {},
   "outputs": [],
   "source": [
    "indexNames = df1[ df1['Crop before'] == \"banana/coconut\" ].index\n",
    "df1.drop(indexNames , inplace=True)"
   ]
  },
  {
   "cell_type": "code",
   "execution_count": 10,
   "id": "91991335",
   "metadata": {},
   "outputs": [],
   "source": [
    "indexNames = df1[ df1['Crop before'] == \"Cotton\" ].index\n",
    "df1.drop(indexNames , inplace=True)"
   ]
  },
  {
   "cell_type": "code",
   "execution_count": 11,
   "id": "tribal-congo",
   "metadata": {},
   "outputs": [
    {
     "name": "stdout",
     "output_type": "stream",
     "text": [
      "Before Dropping :\n",
      "Paddy                                              963\n",
      "Groundnut                                          436\n",
      "Maize                                              310\n",
      "Cowpea                                             205\n",
      "Black gram                                         110\n",
      "Chilli                                             107\n",
      "Citrus                                             105\n",
      "G.Nut                                              102\n",
      "PULSE                                               81\n",
      "Tomato                                              75\n",
      "Coconut                                             69\n",
      "Horsegram                                           48\n",
      "Paddy                                               47\n",
      "Pigeonpea                                           46\n",
      "Sesamum                                             43\n",
      "Potato                                              41\n",
      "Oil Palm                                            39\n",
      "Vari                                                38\n",
      "Banana                                              38\n",
      "Turmeric                                            37\n",
      "Tobacco                                             34\n",
      "Mango                                               34\n",
      "Jonna                                               32\n",
      "Sunflower                                           31\n",
      "Blackgram                                           28\n",
      "Beans                                               28\n",
      "Cashew                                              27\n",
      "Sugarcane                                           24\n",
      "Yam                                                 24\n",
      "Jowar                                               24\n",
      "Maize/Paddy/Rajma                                   20\n",
      "suger cane                                          18\n",
      "Paddy/Maize                                         18\n",
      "Cottan                                              17\n",
      "Banana/coconut                                      17\n",
      "Senaga                                              15\n",
      "Ragi/Niger                                          15\n",
      "Rajma/Maize                                         14\n",
      "GROUND NUT                                          14\n",
      "paddy                                               14\n",
      "Bengalgram                                          13\n",
      "Ground Nut                                          12\n",
      "Mulberry                                            11\n",
      "Bajra                                               10\n",
      "GroundNut                                           10\n",
      "cotton                                              10\n",
      "Maize/Rajma                                         10\n",
      "Flowers                                             10\n",
      "Vegetables                                           9\n",
      "Lime                                                 9\n",
      "Sweetcorn                                            9\n",
      "Mazi                                                 9\n",
      "Coriandam                                            9\n",
      "Mahendra Jonna                                       9\n",
      "SUGER CANE                                           8\n",
      "Cashew Nut                                           8\n",
      "Dhanyalu                                             8\n",
      "Redgram                                              8\n",
      "Maize/paddy                                          7\n",
      "Mulbarry                                             7\n",
      "Erra senaga                                          7\n",
      "Pacha Jonna                                          6\n",
      "Cashewnut                                            6\n",
      "Sugarcane                                            6\n",
      "Ragi                                                 6\n",
      "maize                                                6\n",
      "chickpea                                             5\n",
      "Ground Nat                                           5\n",
      "Cottan,Ground Nat                                    5\n",
      "Paddy/G.nut                                          5\n",
      "Chillies                                             4\n",
      "Horse gram                                           4\n",
      "ground nut/groundnut                                 4\n",
      "banana                                               4\n",
      "Topioca                                              4\n",
      "Paddy Maize                                          4\n",
      "Cotton/Maize                                         3\n",
      "Paady                                                3\n",
      "Green gram                                           3\n",
      "Green Gram                                           3\n",
      "Paddy/Ragi                                           3\n",
      "Fodder Crops                                         3\n",
      "Mesta                                                3\n",
      "Cane                                                 3\n",
      "TAMATO                                               3\n",
      "Chickpea                                             3\n",
      "Prawns                                               3\n",
      "Paddy Sugercane                                      3\n",
      "Chilly                                               3\n",
      "Groundnut,Cottan                                     2\n",
      "Paddy (Sample-2)                                     2\n",
      "Vegetable                                            2\n",
      "Eucalyptus                                           2\n",
      "Cow pea                                              2\n",
      "Cucumber                                             2\n",
      "MAZI                                                 2\n",
      "Paddy,jowar                                          2\n",
      "Cabage                                               2\n",
      "Cotton (Sample-1)                                    2\n",
      "Clastor                                              2\n",
      "beans                                                2\n",
      "Ground Nut,jowar                                     2\n",
      "Turmaric                                             2\n",
      "Cotton,Ground Nut                                    2\n",
      "PADDY                                                2\n",
      "Donda                                                2\n",
      "Mango(Inter Crop Ragi)                               2\n",
      "Cabbage                                              2\n",
      "Ground nut,castor                                    2\n",
      "Potatao                                              2\n",
      "Mango(Intercrop Ragi)                                1\n",
      "groundnut                                            1\n",
      "Mc                                                   1\n",
      "coconut/banana                                       1\n",
      "Cotton, Redgram                                      1\n",
      "Cocnut+Banana                                        1\n",
      "Dhavanam                                             1\n",
      "GroundNut,Cotton                                     1\n",
      "Oil Palm+Banana                                      1\n",
      "Brinjal                                              1\n",
      "Light Black                                          1\n",
      "JOWAR                                                1\n",
      "Topioca, Cashew                                      1\n",
      "Cashew Raina                                         1\n",
      "Cocoa+ Coconut                                       1\n",
      "Castor                                               1\n",
      "Topioca                                              1\n",
      "Black Gram                                           1\n",
      "Red                                                  1\n",
      "Cotton                                               1\n",
      "Cotton,Vegitable                                     1\n",
      "Cane+Lime                                            1\n",
      "Red Gram                                             1\n",
      "Benda                                                1\n",
      "Ground nut,Cottan                                    1\n",
      "Cocnut+Lime                                          1\n",
      "Oil Palm+Coconut                                     1\n",
      "Sugar Cane                                           1\n",
      "Coconut+ Cocoa                                       1\n",
      "Cottan ,Groundnat                                    1\n",
      "Pogaku                                               1\n",
      "-                                                    1\n",
      "Jonna/Senaga                                         1\n",
      "Mango(Intercrop Ragi,)                               1\n",
      "Dhanyalu , Jonnalu                                   1\n",
      "Erra Jonna                                           1\n",
      "Topica, Paddy                                        1\n",
      "coconut                                              1\n",
      "Red Sandal                                           1\n",
      "Cotton,castor                                        1\n",
      "Onian                                                1\n",
      "Cotton, Topioca                                      1\n",
      "Cashew, Mango                                        1\n",
      "Oil Palm                                             1\n",
      "Beera                                                1\n",
      "Oniyan,Ground Nat                                    1\n",
      "Sesumum                                              1\n",
      "Cashewnut, Mango (Intercrop Maize And Seasamum)      1\n",
      "Cotton,Groundnut                                     1\n",
      "Cottan,                                              1\n",
      "Menumu                                               1\n",
      "chill                                                1\n",
      "paddy                                                1\n",
      "Ridge Guard                                          1\n",
      "Ground Nut, Cotton                                   1\n",
      "Anaar                                                1\n",
      "Eucaliptus                                           1\n",
      "Mirchi                                               1\n",
      "Maize/Horti                                          1\n",
      "cashew                                               1\n",
      "Ground Nat,Cottan                                    1\n",
      "Coconut+ Banana                                      1\n",
      "Cottan,Castral                                       1\n",
      "Ground nut ,Mirchi                                   1\n",
      "ground nut                                           1\n",
      "Mulberrry                                            1\n",
      "Paddy, Brinjal                                       1\n",
      "Veru senaga, Jonna                                   1\n",
      "Ground nut                                           1\n",
      "Paddy (Sample-1)                                     1\n",
      "Topioca (Sample-2)                                   1\n",
      "Sandy                                                1\n",
      "Grounat                                              1\n",
      "                                                     1\n",
      "jowar                                                1\n",
      "Chilli Papaya                                        1\n",
      "Coconut (Intercop Maize)                             1\n",
      "Papaya                                               1\n",
      "Korra, Maagu                                         1\n",
      "Jonna+ sunflower                                     1\n",
      "Coconut+Cocoa                                        1\n",
      "SUNFLOWER                                            1\n",
      "Ground Nut ,Cotton                                   1\n",
      "Cashew+Maize                                         1\n",
      "Jonna, Senaga                                        1\n",
      "Mango (Inter Crop Red Gram And Ragi)                 1\n",
      "Peasara + Pacha Gaddi                                1\n",
      "Topioca (Sample-1)                                   1\n",
      "yam                                                  1\n",
      " Maize                                               1\n",
      "Merappa ; Senaga                                     1\n",
      "Sandal                                               1\n"
     ]
    },
    {
     "name": "stdout",
     "output_type": "stream",
     "text": [
      "After dropping the Crops which are <= 100\n",
      "Paddy         963\n",
      "Groundnut     436\n",
      "Maize         310\n",
      "Cowpea        205\n",
      "Black gram    110\n",
      "Chilli        107\n",
      "Citrus        105\n",
      "G.Nut         102\n",
      "PULSE          81\n"
     ]
    }
   ],
   "source": [
    "# Deleting the counts of unique crops which are less than 20 as it will not add much to the data\n",
    "# item_counts contains the unique value counts of the Crops\n",
    "# names contains the name of crops which have low count(<=20)\n",
    "item_counts = df1[\"Crop before\"].value_counts(normalize=False)\n",
    "print(\"Before Dropping :\")\n",
    "print(item_counts.to_string())\n",
    "names = item_counts.index[item_counts.values<=80]\n",
    "for i in names:\n",
    "    df1.drop(df1.index[df1['Crop before'] == i], inplace = True)\n",
    "print(\"After dropping the Crops which are <= 100\")\n",
    "print(df1[\"Crop before\"].value_counts(normalize=False).to_string())"
   ]
  },
  {
   "cell_type": "code",
   "execution_count": 12,
   "id": "tropical-mixer",
   "metadata": {},
   "outputs": [],
   "source": [
    "item_count = df1[\"Crop before\"].value_counts(normalize=False)"
   ]
  },
  {
   "cell_type": "code",
   "execution_count": 13,
   "id": "dominant-minneapolis",
   "metadata": {},
   "outputs": [
    {
     "name": "stdout",
     "output_type": "stream",
     "text": [
      "After Replacing : \n",
      "Paddy        963\n",
      "Groundnut    538\n",
      "Maize        310\n",
      "Cowpea       205\n",
      "Blackgram    110\n",
      "Chilli       107\n",
      "Citrus       105\n",
      "PULSE         81\n"
     ]
    }
   ],
   "source": [
    "# G.Nut and Groundnut are same, so replacing all 'G.nut' to Groundnut. Same with the 'Black gram' and 'Blackgram'\n",
    "df1 = df1.replace(to_replace = \"G.Nut\", value =\"Groundnut\")\n",
    "df1 = df1.replace(to_replace = \"Black gram\", value =\"Blackgram\")\n",
    "print(\"After Replacing : \")\n",
    "item_count = df1[\"Crop before\"].value_counts(normalize=False)\n",
    "print(item_count.to_string())"
   ]
  },
  {
   "cell_type": "code",
   "execution_count": null,
   "id": "f8170d9f",
   "metadata": {},
   "outputs": [],
   "source": []
  },
  {
   "cell_type": "code",
   "execution_count": 14,
   "id": "powered-sessions",
   "metadata": {},
   "outputs": [
    {
     "name": "stdout",
     "output_type": "stream",
     "text": [
      "J =  0  for n =  Paddy\n",
      "0            963\n",
      "Groundnut    538\n",
      "Maize        310\n",
      "Cowpea       205\n",
      "Blackgram    110\n",
      "Chilli       107\n",
      "Citrus       105\n",
      "PULSE         81\n",
      "J =  1  for n =  Groundnut\n",
      "0            963\n",
      "1            538\n",
      "Maize        310\n",
      "Cowpea       205\n",
      "Blackgram    110\n",
      "Chilli       107\n",
      "Citrus       105\n",
      "PULSE         81\n",
      "J =  2  for n =  Maize\n",
      "0            963\n",
      "1            538\n",
      "2            310\n",
      "Cowpea       205\n",
      "Blackgram    110\n",
      "Chilli       107\n",
      "Citrus       105\n",
      "PULSE         81\n",
      "J =  3  for n =  Cowpea\n",
      "0            963\n",
      "1            538\n",
      "2            310\n",
      "3            205\n",
      "Blackgram    110\n",
      "Chilli       107\n",
      "Citrus       105\n",
      "PULSE         81\n",
      "J =  4  for n =  Blackgram\n",
      "0         963\n",
      "1         538\n",
      "2         310\n",
      "3         205\n",
      "4         110\n",
      "Chilli    107\n",
      "Citrus    105\n",
      "PULSE      81\n",
      "J =  5  for n =  Chilli\n",
      "0         963\n",
      "1         538\n",
      "2         310\n",
      "3         205\n",
      "4         110\n",
      "5         107\n",
      "Citrus    105\n",
      "PULSE      81\n",
      "J =  6  for n =  Citrus\n",
      "0        963\n",
      "1        538\n",
      "2        310\n",
      "3        205\n",
      "4        110\n",
      "5        107\n",
      "6        105\n",
      "PULSE     81\n",
      "J =  7  for n =  PULSE\n",
      "0    963\n",
      "1    538\n",
      "2    310\n",
      "3    205\n",
      "4    110\n",
      "5    107\n",
      "6    105\n",
      "7     81\n"
     ]
    }
   ],
   "source": [
    "#Now Labeling the Crops as Classes starting from 0\n",
    "j=0\n",
    "names = item_count.index\n",
    "for i in names:\n",
    "    print(\"J = \",j,\" for n = \",i)\n",
    "    df1 =df1.replace(to_replace = i,value =j)\n",
    "    print(df1[\"Crop before\"].value_counts(normalize=False).to_string())\n",
    "    j = j+1\n",
    "number = j"
   ]
  },
  {
   "cell_type": "code",
   "execution_count": 15,
   "id": "lucky-image",
   "metadata": {},
   "outputs": [
    {
     "name": "stdout",
     "output_type": "stream",
     "text": [
      "0    963\n",
      "1    538\n",
      "2    310\n",
      "3    205\n",
      "4    110\n",
      "5    107\n",
      "6    105\n",
      "7     81\n"
     ]
    }
   ],
   "source": [
    "#After Labeling the classes.\n",
    "print(df1[\"Crop before\"].value_counts(normalize=False).to_string())"
   ]
  },
  {
   "cell_type": "code",
   "execution_count": 16,
   "id": "prostate-sydney",
   "metadata": {},
   "outputs": [
    {
     "name": "stdout",
     "output_type": "stream",
     "text": [
      "0  =  Paddy\n",
      "1  =  Groundnut\n",
      "2  =  Maize\n",
      "3  =  Cowpea\n",
      "4  =  Blackgram\n",
      "5  =  Chilli\n",
      "6  =  Citrus\n",
      "7  =  PULSE\n"
     ]
    }
   ],
   "source": [
    "#The Crops corrosponding to the classes\n",
    "j = 0\n",
    "for i in names:\n",
    "    print(j,\" = \",i)\n",
    "    j = j+1"
   ]
  },
  {
   "cell_type": "code",
   "execution_count": 17,
   "id": "promising-howard",
   "metadata": {},
   "outputs": [],
   "source": [
    "#deleting the string values which are found in the dataset(Not needed)\n",
    "df1.drop(df1.index[ df1['OC'] == 'M'], inplace = True)\n",
    "df1.drop(df1.index[ df1['Avail-S'] == 'M'], inplace = True)"
   ]
  },
  {
   "cell_type": "markdown",
   "id": "searching-parcel",
   "metadata": {},
   "source": [
    "## Getting the Target and Dependent Variables ready"
   ]
  },
  {
   "cell_type": "code",
   "execution_count": 18,
   "id": "exterior-spread",
   "metadata": {},
   "outputs": [
    {
     "data": {
      "text/plain": [
       "array([[4],\n",
       "       [4],\n",
       "       [4],\n",
       "       ...,\n",
       "       [0],\n",
       "       [0],\n",
       "       [0]], dtype=int64)"
      ]
     },
     "execution_count": 18,
     "metadata": {},
     "output_type": "execute_result"
    }
   ],
   "source": [
    "import numpy as np\n",
    "Y = np.array(df1.iloc[:,0])\n",
    "X= np.array(df1.iloc[:,1:])\n",
    "Y.reshape(-1,1)"
   ]
  },
  {
   "cell_type": "code",
   "execution_count": 19,
   "id": "universal-individual",
   "metadata": {},
   "outputs": [],
   "source": [
    "#Scaling the Data\n",
    "from sklearn import preprocessing\n",
    "scaler = preprocessing.StandardScaler()\n",
    "scaler.fit(X)\n",
    "X = scaler.transform(X)"
   ]
  },
  {
   "cell_type": "markdown",
   "id": "previous-collectible",
   "metadata": {},
   "source": [
    "# Training the Model"
   ]
  },
  {
   "cell_type": "markdown",
   "id": "breathing-spread",
   "metadata": {},
   "source": [
    "## Splitting the dataset"
   ]
  },
  {
   "cell_type": "code",
   "execution_count": 20,
   "id": "olive-frederick",
   "metadata": {},
   "outputs": [],
   "source": [
    "from sklearn.model_selection import train_test_split\n",
    "x_train, x_test, y_train, y_test = train_test_split(X,Y,random_state=394)"
   ]
  },
  {
   "cell_type": "markdown",
   "id": "floral-removal",
   "metadata": {},
   "source": [
    "# Training Model By Logistic Regression"
   ]
  },
  {
   "cell_type": "code",
   "execution_count": 21,
   "id": "political-competition",
   "metadata": {},
   "outputs": [
    {
     "data": {
      "text/plain": [
       "LogisticRegression(max_iter=1000)"
      ]
     },
     "execution_count": 21,
     "metadata": {},
     "output_type": "execute_result"
    }
   ],
   "source": [
    "#Training the data\n",
    "from sklearn.linear_model import LogisticRegression\n",
    "clfl = LogisticRegression(solver='lbfgs',max_iter=1000)\n",
    "clfl.fit(x_train, y_train)"
   ]
  },
  {
   "cell_type": "code",
   "execution_count": 22,
   "id": "attached-excess",
   "metadata": {},
   "outputs": [],
   "source": [
    "#Predicting the data\n",
    "y_train_predl = clfl.predict(x_train)\n",
    "y_test_predl = clfl.predict(x_test)"
   ]
  },
  {
   "cell_type": "markdown",
   "id": "impressive-founder",
   "metadata": {},
   "source": [
    "## Evaluating the Model"
   ]
  },
  {
   "cell_type": "code",
   "execution_count": 23,
   "id": "raised-explosion",
   "metadata": {},
   "outputs": [
    {
     "name": "stdout",
     "output_type": "stream",
     "text": [
      "[[217  13  14   3   4   4   5   1]\n",
      " [ 10 114   3   6   0   2   0   0]\n",
      " [ 21  12  33   3   3   0   0   0]\n",
      " [ 11  11   1  23   0   0   2   0]\n",
      " [  8   1   0   0   3   1   9   1]\n",
      " [  6   4   0   1   1  18   2   0]\n",
      " [  3   4   0   1   0   2   7   0]\n",
      " [  4   0   0   0   0   0   0  13]]\n"
     ]
    }
   ],
   "source": [
    "# Printing the confusion Matrix\n",
    "\n",
    "from sklearn.metrics import confusion_matrix\n",
    "# printing the confusion Matrix on testing Data\n",
    "print(confusion_matrix(y_test, y_test_predl))"
   ]
  },
  {
   "cell_type": "code",
   "execution_count": 24,
   "id": "authentic-classics",
   "metadata": {},
   "outputs": [
    {
     "data": {
      "text/plain": [
       "<AxesSubplot:>"
      ]
     },
     "execution_count": 24,
     "metadata": {},
     "output_type": "execute_result"
    },
    {
     "data": {
      "image/png": "[encoded data removed]",
      "text/plain": [
       "<Figure size 576x576 with 2 Axes>"
      ]
     },
     "metadata": {
      "needs_background": "light"
     },
     "output_type": "display_data"
    }
   ],
   "source": [
    "import seaborn as sn\n",
    "import pandas as pd\n",
    "import matplotlib.pyplot as plt\n",
    "plt.figure(figsize = (8,8))\n",
    "sn.heatmap(confusion_matrix(y_test, y_test_predl), annot=True,cmap=\"YlGnBu\",fmt='.2f')"
   ]
  },
  {
   "cell_type": "code",
   "execution_count": 25,
   "id": "found-necklace",
   "metadata": {},
   "outputs": [
    {
     "name": "stdout",
     "output_type": "stream",
     "text": [
      "              precision    recall  f1-score   support\n",
      "\n",
      "           0       0.78      0.83      0.80       261\n",
      "           1       0.72      0.84      0.78       135\n",
      "           2       0.65      0.46      0.54        72\n",
      "           3       0.62      0.48      0.54        48\n",
      "           4       0.27      0.13      0.18        23\n",
      "           5       0.67      0.56      0.61        32\n",
      "           6       0.28      0.41      0.33        17\n",
      "           7       0.87      0.76      0.81        17\n",
      "\n",
      "    accuracy                           0.71       605\n",
      "   macro avg       0.61      0.56      0.57       605\n",
      "weighted avg       0.70      0.71      0.70       605\n",
      "\n"
     ]
    }
   ],
   "source": [
    "#printing Classificaation Report\n",
    "from sklearn.metrics import classification_report\n",
    "print(classification_report(y_test, y_test_predl))"
   ]
  },
  {
   "cell_type": "code",
   "execution_count": 26,
   "id": "electric-bradford",
   "metadata": {},
   "outputs": [
    {
     "name": "stdout",
     "output_type": "stream",
     "text": [
      "Accuracy: 0.7074380165289256\n"
     ]
    }
   ],
   "source": [
    "from sklearn import metrics\n",
    "print(\"Accuracy:\",metrics.accuracy_score(y_test, y_test_predl))"
   ]
  },
  {
   "cell_type": "markdown",
   "id": "functioning-arnold",
   "metadata": {},
   "source": [
    "# Training Model By Decision Tree"
   ]
  },
  {
   "cell_type": "code",
   "execution_count": 27,
   "id": "needed-satellite",
   "metadata": {},
   "outputs": [
    {
     "data": {
      "text/plain": [
       "DecisionTreeClassifier()"
      ]
     },
     "execution_count": 27,
     "metadata": {},
     "output_type": "execute_result"
    }
   ],
   "source": [
    "from sklearn.tree import DecisionTreeClassifier\n",
    "from sklearn.tree import export_graphviz\n",
    "#Creating Model \n",
    "clft = DecisionTreeClassifier()\n",
    "#Fitting Model\n",
    "clft.fit(x_train, y_train)"
   ]
  },
  {
   "cell_type": "code",
   "execution_count": 28,
   "id": "assumed-quick",
   "metadata": {},
   "outputs": [],
   "source": [
    "# Predicting the Data\n",
    "y_train_predt = clft.predict(x_train)\n",
    "y_test_predt = clft.predict(x_test)"
   ]
  },
  {
   "cell_type": "markdown",
   "id": "revised-advertiser",
   "metadata": {},
   "source": [
    "## Evaluating the Model"
   ]
  },
  {
   "cell_type": "code",
   "execution_count": 29,
   "id": "chemical-category",
   "metadata": {},
   "outputs": [
    {
     "name": "stdout",
     "output_type": "stream",
     "text": [
      "[[196  18  24   8   2   5   4   4]\n",
      " [ 16  90  15   7   0   2   5   0]\n",
      " [ 14  10  37   5   3   0   3   0]\n",
      " [  7   4   2  33   0   1   1   0]\n",
      " [  4   1   2   2   6   0   6   2]\n",
      " [  9   2   1   1   2  16   1   0]\n",
      " [  5   1   0   0   3   1   7   0]\n",
      " [  0   0   2   0   1   0   0  14]]\n"
     ]
    }
   ],
   "source": [
    "# Printing the confusion Matrix\n",
    "\n",
    "from sklearn.metrics import confusion_matrix\n",
    "# printing the confusion Matrix on testing Data\n",
    "print(confusion_matrix(y_test, y_test_predt))"
   ]
  },
  {
   "cell_type": "code",
   "execution_count": 30,
   "id": "trained-crystal",
   "metadata": {},
   "outputs": [
    {
     "data": {
      "text/plain": [
       "<AxesSubplot:>"
      ]
     },
     "execution_count": 30,
     "metadata": {},
     "output_type": "execute_result"
    },
    {
     "data": {
      "image/png": "[encoded data removed]",
      "text/plain": [
       "<Figure size 576x576 with 2 Axes>"
      ]
     },
     "metadata": {
      "needs_background": "light"
     },
     "output_type": "display_data"
    }
   ],
   "source": [
    "import seaborn as sn\n",
    "import pandas as pd\n",
    "import matplotlib.pyplot as plt\n",
    "plt.figure(figsize = (8,8))\n",
    "sn.heatmap(confusion_matrix(y_test, y_test_predt), annot=True,cmap=\"YlGnBu\",fmt='.2f')"
   ]
  },
  {
   "cell_type": "code",
   "execution_count": 31,
   "id": "metric-upgrade",
   "metadata": {},
   "outputs": [
    {
     "name": "stdout",
     "output_type": "stream",
     "text": [
      "              precision    recall  f1-score   support\n",
      "\n",
      "           0       0.78      0.75      0.77       261\n",
      "           1       0.71      0.67      0.69       135\n",
      "           2       0.45      0.51      0.48        72\n",
      "           3       0.59      0.69      0.63        48\n",
      "           4       0.35      0.26      0.30        23\n",
      "           5       0.64      0.50      0.56        32\n",
      "           6       0.26      0.41      0.32        17\n",
      "           7       0.70      0.82      0.76        17\n",
      "\n",
      "    accuracy                           0.66       605\n",
      "   macro avg       0.56      0.58      0.56       605\n",
      "weighted avg       0.67      0.66      0.66       605\n",
      "\n"
     ]
    }
   ],
   "source": [
    "#printing Classificaation Report\n",
    "from sklearn.metrics import classification_report\n",
    "print(classification_report(y_test, y_test_predt))"
   ]
  },
  {
   "cell_type": "code",
   "execution_count": 32,
   "id": "proof-ground",
   "metadata": {},
   "outputs": [
    {
     "name": "stdout",
     "output_type": "stream",
     "text": [
      "Accuracy: 0.6595041322314049\n"
     ]
    }
   ],
   "source": [
    "from sklearn import metrics\n",
    "print(\"Accuracy:\",metrics.accuracy_score(y_test, y_test_predt))"
   ]
  },
  {
   "cell_type": "markdown",
   "id": "american-senate",
   "metadata": {},
   "source": [
    "# Training Model By SVM"
   ]
  },
  {
   "cell_type": "code",
   "execution_count": 33,
   "id": "unexpected-supplement",
   "metadata": {},
   "outputs": [
    {
     "data": {
      "text/plain": [
       "SVC(C=1, kernel='linear')"
      ]
     },
     "execution_count": 33,
     "metadata": {},
     "output_type": "execute_result"
    }
   ],
   "source": [
    "from sklearn import svm\n",
    "clfs = svm.SVC(kernel='linear',C=1)\n",
    "#Fitting the Model\n",
    "clfs.fit(x_train, y_train)"
   ]
  },
  {
   "cell_type": "code",
   "execution_count": 34,
   "id": "functioning-wells",
   "metadata": {},
   "outputs": [],
   "source": [
    "# Predicting the data\n",
    "y_train_preds = clfs.predict(x_train)\n",
    "y_test_preds = clfl.predict(x_test)"
   ]
  },
  {
   "cell_type": "markdown",
   "id": "greek-sleeping",
   "metadata": {},
   "source": [
    "## Evaluating the Model"
   ]
  },
  {
   "cell_type": "code",
   "execution_count": 35,
   "id": "pursuant-pearl",
   "metadata": {},
   "outputs": [
    {
     "name": "stdout",
     "output_type": "stream",
     "text": [
      "[[217  13  14   3   4   4   5   1]\n",
      " [ 10 114   3   6   0   2   0   0]\n",
      " [ 21  12  33   3   3   0   0   0]\n",
      " [ 11  11   1  23   0   0   2   0]\n",
      " [  8   1   0   0   3   1   9   1]\n",
      " [  6   4   0   1   1  18   2   0]\n",
      " [  3   4   0   1   0   2   7   0]\n",
      " [  4   0   0   0   0   0   0  13]]\n"
     ]
    }
   ],
   "source": [
    "# Printing the confusion Matrix\n",
    "\n",
    "from sklearn.metrics import confusion_matrix\n",
    "# printing the confusion Matrix on testing Data\n",
    "print(confusion_matrix(y_test, y_test_preds))"
   ]
  },
  {
   "cell_type": "code",
   "execution_count": 36,
   "id": "a995eb23",
   "metadata": {},
   "outputs": [
    {
     "data": {
      "text/plain": [
       "<AxesSubplot:>"
      ]
     },
     "execution_count": 36,
     "metadata": {},
     "output_type": "execute_result"
    },
    {
     "data": {
      "image/png": "[encoded data removed]",
      "text/plain": [
       "<Figure size 576x576 with 2 Axes>"
      ]
     },
     "metadata": {
      "needs_background": "light"
     },
     "output_type": "display_data"
    }
   ],
   "source": [
    "import seaborn as sn\n",
    "import pandas as pd\n",
    "import matplotlib.pyplot as plt\n",
    "plt.figure(figsize = (8,8))\n",
    "sn.heatmap(confusion_matrix(y_test, y_test_preds), annot=True,cmap=\"YlGnBu\",fmt='.2f')"
   ]
  },
  {
   "cell_type": "code",
   "execution_count": 37,
   "id": "saved-collins",
   "metadata": {},
   "outputs": [
    {
     "name": "stdout",
     "output_type": "stream",
     "text": [
      "              precision    recall  f1-score   support\n",
      "\n",
      "           0       0.78      0.83      0.80       261\n",
      "           1       0.72      0.84      0.78       135\n",
      "           2       0.65      0.46      0.54        72\n",
      "           3       0.62      0.48      0.54        48\n",
      "           4       0.27      0.13      0.18        23\n",
      "           5       0.67      0.56      0.61        32\n",
      "           6       0.28      0.41      0.33        17\n",
      "           7       0.87      0.76      0.81        17\n",
      "\n",
      "    accuracy                           0.71       605\n",
      "   macro avg       0.61      0.56      0.57       605\n",
      "weighted avg       0.70      0.71      0.70       605\n",
      "\n"
     ]
    }
   ],
   "source": [
    "#printing Classificaation Report\n",
    "print(classification_report(y_test, y_test_preds))"
   ]
  },
  {
   "cell_type": "code",
   "execution_count": 38,
   "id": "regulation-staff",
   "metadata": {},
   "outputs": [
    {
     "name": "stdout",
     "output_type": "stream",
     "text": [
      "Accuracy: 0.7074380165289256\n"
     ]
    }
   ],
   "source": [
    "from sklearn import metrics\n",
    "print(\"Accuracy:\",metrics.accuracy_score(y_test, y_test_preds))"
   ]
  },
  {
   "cell_type": "markdown",
   "id": "paperback-calvin",
   "metadata": {},
   "source": [
    "# Trainin Model By KN Neighbours "
   ]
  },
  {
   "cell_type": "code",
   "execution_count": 39,
   "id": "aggregate-survey",
   "metadata": {},
   "outputs": [],
   "source": [
    "from sklearn.neighbors import KNeighborsClassifier\n",
    "model = KNeighborsClassifier()\n",
    "# Fitting and Predicting the model\n",
    "model.fit(x_train,y_train)\n",
    "y_test_predk = model.predict(x_test)\n"
   ]
  },
  {
   "cell_type": "markdown",
   "id": "bronze-brass",
   "metadata": {},
   "source": [
    "## Evaluating the Model"
   ]
  },
  {
   "cell_type": "code",
   "execution_count": 40,
   "id": "christian-divide",
   "metadata": {},
   "outputs": [
    {
     "name": "stdout",
     "output_type": "stream",
     "text": [
      "[[217  14  15   3   5   5   2   0]\n",
      " [ 12 110   2   9   1   1   0   0]\n",
      " [ 12  11  40   6   0   1   1   1]\n",
      " [  8  10   2  26   1   0   1   0]\n",
      " [  5   0   1   0  11   2   3   1]\n",
      " [  1   1   0   2   0  27   1   0]\n",
      " [  4   2   0   2   3   0   6   0]\n",
      " [  1   0   0   0   1   0   0  15]]\n"
     ]
    }
   ],
   "source": [
    "# Printing the confusion Matrix\n",
    "\n",
    "from sklearn.metrics import confusion_matrix\n",
    "# printing the confusion Matrix on testing Data\n",
    "print(confusion_matrix(y_test, y_test_predk))"
   ]
  },
  {
   "cell_type": "code",
   "execution_count": 41,
   "id": "proud-milton",
   "metadata": {},
   "outputs": [
    {
     "name": "stdout",
     "output_type": "stream",
     "text": [
      "              precision    recall  f1-score   support\n",
      "\n",
      "           0       0.83      0.83      0.83       261\n",
      "           1       0.74      0.81      0.78       135\n",
      "           2       0.67      0.56      0.61        72\n",
      "           3       0.54      0.54      0.54        48\n",
      "           4       0.50      0.48      0.49        23\n",
      "           5       0.75      0.84      0.79        32\n",
      "           6       0.43      0.35      0.39        17\n",
      "           7       0.88      0.88      0.88        17\n",
      "\n",
      "    accuracy                           0.75       605\n",
      "   macro avg       0.67      0.66      0.66       605\n",
      "weighted avg       0.74      0.75      0.74       605\n",
      "\n"
     ]
    }
   ],
   "source": [
    "#printing Classificaation Report\n",
    "print(classification_report(y_test, y_test_predk))"
   ]
  },
  {
   "cell_type": "code",
   "execution_count": 42,
   "id": "native-norway",
   "metadata": {},
   "outputs": [
    {
     "name": "stdout",
     "output_type": "stream",
     "text": [
      "Accuracy: 0.7471074380165289\n"
     ]
    }
   ],
   "source": [
    "from sklearn import metrics\n",
    "print(\"Accuracy:\",metrics.accuracy_score(y_test, y_test_predk))"
   ]
  },
  {
   "cell_type": "code",
   "execution_count": 43,
   "id": "a6d7bb09",
   "metadata": {},
   "outputs": [
    {
     "data": {
      "text/plain": [
       "<AxesSubplot:>"
      ]
     },
     "execution_count": 43,
     "metadata": {},
     "output_type": "execute_result"
    },
    {
     "data": {
      "image/png": "[encoded data removed]",
      "text/plain": [
       "<Figure size 576x576 with 2 Axes>"
      ]
     },
     "metadata": {
      "needs_background": "light"
     },
     "output_type": "display_data"
    }
   ],
   "source": [
    "import seaborn as sn\n",
    "import pandas as pd\n",
    "import matplotlib.pyplot as plt\n",
    "plt.figure(figsize = (8,8))\n",
    "sn.heatmap(confusion_matrix(y_test, y_test_predk), annot=True,cmap=\"YlGnBu\",fmt='.2f')"
   ]
  },
  {
   "cell_type": "code",
   "execution_count": null,
   "id": "a32dd510",
   "metadata": {},
   "outputs": [],
   "source": []
  }
 ],
 "metadata": {
  "kernelspec": {
   "display_name": "Python 3",
   "language": "python",
   "name": "python3"
  },
  "language_info": {
   "codemirror_mode": {
    "name": "ipython",
    "version": 3
   },
   "file_extension": ".py",
   "mimetype": "text/x-python",
   "name": "python",
   "nbconvert_exporter": "python",
   "pygments_lexer": "ipython3",
   "version": "3.8.8"
  }
 },
 "nbformat": 4,
 "nbformat_minor": 5
}
